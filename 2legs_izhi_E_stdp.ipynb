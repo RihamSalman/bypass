{
 "cells": [
  {
   "cell_type": "markdown",
   "metadata": {
    "id": "k-Ho_9yguZGP"
   },
   "source": [
    "# Setup"
   ]
  },
  {
   "cell_type": "markdown",
   "metadata": {
    "heading_collapsed": true,
    "id": "Wp-IOiMa61VH"
   },
   "source": [
    "## Import"
   ]
  },
  {
   "cell_type": "code",
   "execution_count": null,
   "metadata": {
    "ExecuteTime": {
     "end_time": "2023-07-06T14:02:16.803459Z",
     "start_time": "2023-07-06T14:02:14.168373Z"
    },
    "executionInfo": {
     "elapsed": 5669,
     "status": "ok",
     "timestamp": 1683228723081,
     "user": {
      "displayName": "Max Talanov",
      "userId": "12188531022269960772"
     },
     "user_tz": -120
    },
    "hidden": true,
    "id": "FgosCYcN679i",
    "init_cell": true,
    "run_control": {
     "marked": true
    }
   },
   "outputs": [],
   "source": [
    "from brian2 import *\n",
    "from scipy.signal import savgol_filter\n",
    "import pickle"
   ]
  },
  {
   "cell_type": "code",
   "execution_count": null,
   "metadata": {
    "ExecuteTime": {
     "end_time": "2023-07-06T14:02:17.065783Z",
     "start_time": "2023-07-06T14:02:16.806480Z"
    },
    "code_folding": [],
    "colab": {
     "base_uri": "https://localhost:8080/"
    },
    "executionInfo": {
     "elapsed": 1496,
     "status": "ok",
     "timestamp": 1683228749684,
     "user": {
      "displayName": "Max Talanov",
      "userId": "12188531022269960772"
     },
     "user_tz": -120
    },
    "hidden": true,
    "id": "l9Y5ohQf1UCK",
    "init_cell": true,
    "outputId": "7de93dc8-1cac-4d25-920d-b1c6748a7309",
    "run_control": {
     "marked": true
    }
   },
   "outputs": [],
   "source": [
    "import os.path\n",
    "from os import path\n",
    "\n",
    "## Saving\n",
    "total_save_seconds = 180\n",
    "save_path_leafs = ['60','120','180','240']\n",
    "save_path_prefix = './out/long_run/'\n",
    "##save_path_prefix = './out/test_run/'\n",
    "\n",
    "if path.exists(save_path_prefix) == False:\n",
    "    os.mkdir(save_path_prefix)\n",
    "\n",
    "for p in range(60, total_save_seconds+60, 60):\n",
    "  if path.exists(save_path_prefix + str(p)) == False:\n",
    "    os.mkdir(save_path_prefix + str(p))\n",
    "\n",
    "os.chdir(save_path_prefix)\n",
    "!pwd\n",
    "!ls\n"
   ]
  },
  {
   "cell_type": "code",
   "execution_count": null,
   "metadata": {
    "ExecuteTime": {
     "end_time": "2023-07-06T14:02:17.201414Z",
     "start_time": "2023-07-06T14:02:17.071135Z"
    },
    "hidden": true,
    "init_cell": true,
    "run_control": {
     "marked": true
    }
   },
   "outputs": [],
   "source": [
    "!pwd"
   ]
  },
  {
   "cell_type": "markdown",
   "metadata": {
    "id": "oIM5iijN_C9a"
   },
   "source": [
    "## Defs"
   ]
  },
  {
   "cell_type": "markdown",
   "metadata": {
    "heading_collapsed": true
   },
   "source": [
    "### LIF Song, Miller and Abbot neuron\n",
    "    dv/dt = (ge * (Ee-v) + El - v) / taum : volt\n",
    "\n",
    "### Simple synapse\n",
    "    on_pre='v += s'\n",
    "\n",
    "### STDP synapse\n",
    "    on_pre='''ge += s\n",
    "\n",
    "\n",
    "### Izhi neuron\n",
    "    dv/dt = (0.04*v**2 + 5*v + 140 - u + I + I_noise )/ms : 1\n",
    "\n",
    "\n",
    "### Izhi simple synapse\n",
    "    on_pre={\"up\": \"I += w\", \"down\": \"I -= w\"}\n",
    "    \n",
    "### Izhi STDP synapse\n",
    "    on_pre='''I += s\n"
   ]
  },
  {
   "cell_type": "markdown",
   "metadata": {
    "id": "NvH_btzG7B8y"
   },
   "source": [
    "### Functions "
   ]
  },
  {
   "cell_type": "markdown",
   "metadata": {},
   "source": [
    "### Izhi parameters\n",
    "![](https://raw.githubusercontent.com/max-talanov/1/master/bypass/Izhi_parameters.png)"
   ]
  },
  {
   "cell_type": "code",
   "execution_count": null,
   "metadata": {
    "ExecuteTime": {
     "end_time": "2023-07-06T14:02:17.244763Z",
     "start_time": "2023-07-06T14:02:17.209234Z"
    },
    "code_folding": [
     1,
     38,
     95,
     122,
     126,
     138,
     150,
     154,
     159,
     164,
     168,
     182
    ],
    "executionInfo": {
     "elapsed": 35,
     "status": "ok",
     "timestamp": 1683228749696,
     "user": {
      "displayName": "Max Talanov",
      "userId": "12188531022269960772"
     },
     "user_tz": -120
    },
    "id": "bkkN29xu-iQL",
    "init_cell": true,
    "run_control": {
     "marked": true
    }
   },
   "outputs": [],
   "source": [
    "\n",
    "def generate_LIF_neurons(neurons_n):\n",
    "    neurons = NeuronGroup(neurons_n, \n",
    "                        #'''dv/dt = (ge * (Ee-v) + El - v) / taum : volt\n",
    "                        '''dv/dt = (ge * (Ee-v) + El - v) / taum : volt\n",
    "                        dge/dt = -ge / taue : 1''',\n",
    "                        threshold='v>vt', reset='v = vr',\n",
    "                        # method='exact'\n",
    "                        method='euler')\n",
    "    return neurons\n",
    "\n",
    "def generate_Izhi_neurons(neurons_n, a=0.02, b=0.2, c=-65., d=8):\n",
    "    '''Generates regural spiking neurons (RS)'''\n",
    "    eqs = \"\"\"dv/dt = (0.04*v**2 + 5*v + 140 - u + I + I_noise )/ms : 1\n",
    "         du/dt = (a*(b*v - u))/ms  : 1\n",
    "         I : 1\n",
    "         I_noise : 1\n",
    "         a : 1\n",
    "         b : 1\n",
    "         cn : 1\n",
    "         dn : 1\n",
    "       \"\"\"\n",
    "    N = NeuronGroup(neurons_n, eqs, threshold=\"v>=30\", reset=\"v=cn; u+=dn\", method=\"euler\")\n",
    "    N.v = -65\n",
    "    N.a = a\n",
    "    N.b = b\n",
    "    N.cn = c\n",
    "    N.dn = d\n",
    "    return N\n",
    "\n",
    "def generate_Izhi_chattering_neurons(neurons_n):\n",
    "    res = generate_Izhi_neurons(neurons_n, a=0.02, b=0.2, c=-50, d=2)\n",
    "    return res\n",
    "\n",
    "def generate_Izhi_RS_neurons(neurons_n):\n",
    "    res = generate_Izhi_neurons(neurons_n)\n",
    "    return res\n",
    "\n",
    "def generate_STDP_DA_synapses(pre, post):\n",
    "    \"\"\"\n",
    "    Generates the STDP modulated with DA synapses\n",
    "    pre -- the presynaptic neurons \n",
    "    post -- the postsynaptic neurons \n",
    "    mode is external variable: mode = 0 switches off DA modulation, mode = 1 switches on DA modulation.\n",
    "    s -- synaptic strength      = 1e-10\n",
    "    c -- eligibility trace      = 1e-10\n",
    "    d -- extracellular dopamine = 0\n",
    "    \"\"\"\n",
    "    synapse_stdp = Synapses(pre, post,\n",
    "                          model='''mode: 1\n",
    "                          dc/dt = -c / tauc : 1 (clock-driven)\n",
    "                          dd/dt = -d / taud : 1 (clock-driven)\n",
    "                          ds/dt = mode * c * d / taus : 1 (clock-driven)\n",
    "                          dApre/dt = -Apre / taupre : 1 (event-driven)\n",
    "                          dApost/dt = -Apost / taupost : 1 (event-driven)''',\n",
    "                          on_pre='''v += s\n",
    "                          Apre += dApre\n",
    "                          c = clip(c + mode * Apost, -gmax, gmax)\n",
    "                          s = clip(s + (1-mode) * Apost, -gmax, gmax)\n",
    "                          ''',\n",
    "                          on_post='''Apost += dApost\n",
    "                          c = clip(c + mode * Apre, -gmax, gmax)\n",
    "                          s = clip(s + (1-mode) * Apre, -gmax, gmax)\n",
    "                          ''',\n",
    "                          method='euler'\n",
    "                          )\n",
    "    return synapse_stdp\n",
    "\n",
    "def generate_ex_STDP_DA_synapses(pre, post):\n",
    "  \"\"\"\n",
    "    Generates the STDP modulated with DA synapses\n",
    "    pre -- the presynaptic neurons \n",
    "    post -- the postsynaptic neurons \n",
    "    mode is external variable: mode = 0 switches off DA modulation, mode = 1 switches on DA modulation.\n",
    "    \"\"\"\n",
    "  synapse_stdp = Synapses(pre, post,\n",
    "                          model='''mode: 1\n",
    "                          dc/dt = -c / tauc : 1 (clock-driven)\n",
    "                          dd/dt = -d / taud : 1 (clock-driven)\n",
    "                          ds/dt = mode * c * d / taus : 1 (clock-driven)\n",
    "                          dApre/dt = -Apre / taupre : 1 (event-driven)\n",
    "                          dApost/dt = -Apost / taupost : 1 (event-driven)''',\n",
    "                          on_pre='''v += s\n",
    "                          Apre += dApre\n",
    "                          c = clip(c + mode * Apost, -gmax, gmax)\n",
    "                          s = clip(s + (1-mode) * Apost, 0, gmax)\n",
    "                          ''',\n",
    "                          on_post='''Apost += dApost\n",
    "                          c = clip(c + mode * Apre, -gmax, gmax)\n",
    "                          s = clip(s + (1-mode) * Apre, 0, gmax)\n",
    "                          ''',\n",
    "                          method='euler'\n",
    "                          )\n",
    "  return synapse_stdp\n",
    "\n",
    "def generate_inh_STDP_DA_synapses(pre, post):\n",
    "  \"\"\"\n",
    "    Generates the STDP modulated with DA synapses\n",
    "    pre -- the presynaptic neurons \n",
    "    post -- the postsynaptic neurons \n",
    "    mode is external variable: mode = 0 switches off DA modulation, mode = 1 switches on DA modulation.\n",
    "    \"\"\"\n",
    "  synapse_stdp = Synapses(pre, post,\n",
    "                          model='''mode: 1\n",
    "                          dc/dt = -c / tauc : 1 (clock-driven)\n",
    "                          dd/dt = -d / taud : 1 (clock-driven)\n",
    "                          ds/dt = mode * c * d / taus : 1 (clock-driven)\n",
    "                          dApre/dt = -Apre / taupre : 1 (event-driven)\n",
    "                          dApost/dt = -Apost / taupost : 1 (event-driven)''',\n",
    "                          on_pre='''v += s\n",
    "                          Apre += dApre\n",
    "                          c = clip(c + mode * Apost, -gmax, gmax)\n",
    "                          s = clip(s + (1-mode) * Apost, -gmax, 0)\n",
    "                          ''',\n",
    "                          on_post='''Apost += dApost\n",
    "                          c = clip(c + mode * Apre, -gmax, gmax)\n",
    "                          s = clip(s + (1-mode) * Apre, -gmax, 0)\n",
    "                          ''',\n",
    "                          method='euler'\n",
    "                          )\n",
    "  return synapse_stdp\n",
    "\n",
    "def generate_simple_synapses(pre, post):\n",
    "  synapse = Synapses(pre, post, model='''s: 1''', on_pre='v += s')\n",
    "  return synapse\n",
    "\n",
    "def identity_cut_chank(step):\n",
    "  ## cut_chank_number\n",
    "  cut_chank_number = [0]\n",
    "  if (step < 2):   cut_chank_number = [0]\n",
    "  elif (step < 3): cut_chank_number = [0,1]\n",
    "  elif (step < 4): cut_chank_number = [1]\n",
    "  elif (step < 6): cut_chank_number = [1,2]\n",
    "  elif (step < 7): cut_chank_number = [2]\n",
    "  elif (step < 8): cut_chank_number = [2,3]\n",
    "  elif (step < 10): cut_chank_number = [3]\n",
    "  return cut_chank_number\n",
    "\n",
    "def identity_cut_chank_no_intersections(step):\n",
    "  ## cut_chank_number\n",
    "  cut_chank_number = [0]\n",
    "  if (step < 2):    cut_chank_number = [0]\n",
    "  elif (step < 3):  cut_chank_number = [0]\n",
    "  elif (step < 4):  cut_chank_number = [1]\n",
    "  elif (step < 6):  cut_chank_number = [1]\n",
    "  elif (step < 7):  cut_chank_number = [2]\n",
    "  elif (step < 8):  cut_chank_number = [2]\n",
    "  elif (step < 10): cut_chank_number = [3]\n",
    "  return cut_chank_number\n",
    "\n",
    "def identify_muscle_freq(step, freq_hi, freq_lo):\n",
    "  if step in [2,3,6,7]: return freq_hi\n",
    "  else: return freq_lo\n",
    "\n",
    "def identify_V3_F_freq(step, freq_hi, freq_lo):\n",
    "    ## [6,7]\n",
    "    if step in [6,7]: return freq_hi\n",
    "    else: return freq_lo\n",
    "\n",
    "def identify_V0_freq(step, freq_hi, freq_lo):\n",
    "    ## [6,7]\n",
    "    if step in [6,7]: return freq_hi\n",
    "    else: return freq_lo\n",
    "\n",
    "def identify_bs_freq(step, freq_hi, freq_lo, steps_num):\n",
    "    freq_step = (freq_hi-freq_lo)/steps_num\n",
    "    return step*freq_step + freq_lo\n",
    "\n",
    "def save_reset_spike_monitor(spike_monitor, save_path_prefix, file_name, neuron_group):\n",
    "    print ('saving spike montor' + str(spike_monitor) + ' into: ' + save_path_prefix)\n",
    "    data = spike_monitor.get_states(['t', 'i'])\n",
    "    save_path_run = save_path_prefix + '/'\n",
    "    print('save in ' + save_path_run + file_name + '.pickle')\n",
    "    with open(save_path_run + file_name + '.pickle', 'wb') as f:\n",
    "        pickle.dump(data, f)\n",
    "        print('reset monitor')\n",
    "        del spike_monitor\n",
    "        del data\n",
    "        print('creating new monitor')\n",
    "        res_monitor = SpikeMonitor(neuron_group)\n",
    "        return res_monitor\n",
    "\n",
    "def save_reset_state_monitor(state_monitor, save_path_prefix, file_name, state, monitor_dt, group):\n",
    "    print ('saving state montor' + str(state_monitor))\n",
    "    data = state_monitor.get_states(['t', state])\n",
    "    save_path_run = save_path_prefix + '/'\n",
    "    print('save '+ str(state) + ' in ' + save_path_run + file_name + '.pickle')\n",
    "    with open(save_path_run + file_name + '.pickle', 'wb') as f:\n",
    "        pickle.dump(data, f)\n",
    "        print('reset monitor')\n",
    "        del state_monitor\n",
    "        del data\n",
    "        print('creating new monitor')\n",
    "        res_monitor = StateMonitor(group, state, record=True, dt=monitor_dt)\n",
    "        return res_monitor\n",
    "\n",
    "print('Completed functions definitions ...')"
   ]
  },
  {
   "cell_type": "markdown",
   "metadata": {
    "id": "E2esPbN__Gg6"
   },
   "source": [
    "### Parameters: 10 steps"
   ]
  },
  {
   "cell_type": "code",
   "execution_count": null,
   "metadata": {
    "ExecuteTime": {
     "end_time": "2023-07-06T14:02:17.275443Z",
     "start_time": "2023-07-06T14:02:17.249939Z"
    },
    "code_folding": [],
    "executionInfo": {
     "elapsed": 35,
     "status": "ok",
     "timestamp": 1683228749698,
     "user": {
      "displayName": "Max Talanov",
      "userId": "12188531022269960772"
     },
     "user_tz": -120
    },
    "id": "YYxN5zSH_JoB",
    "init_cell": true,
    "run_control": {
     "marked": true
    }
   },
   "outputs": [],
   "source": [
    "# Steps\n",
    "steps_num = 20 # 120\n",
    "\n",
    "step_duration = 1000 ## ms\n",
    "swing_stance_duration = 500 ##ms\n",
    "simulation_hill_toe_phases = 4\n",
    "simulation_muscle_phases = 5\n",
    "simulation_step_phases = 10\n",
    "\n",
    "# Inputs F&E connections not STDP\n",
    "cut2rg_conn_probability = 1.0 # 0.1 # 0.02 # 0.01 ## 0.02 ## cut -> rg; 🔼🔼\n",
    "muscle2rg_conn_probability = 0.2 # 0.01 #0.1 # 0.02 # 0.1 ## 0.02 ## muscle -> rg; \n",
    "V3_F_2rg_conn_probability = 0.3 # 0.1 ## V3-F -> rg\n",
    "\n",
    "InX2X_conn_probability = 0.1 # 0.05 # E->InE->F & F->InF->E;\n",
    "rg2motor_conn_probability = 1.0 # 0.3 # 0.1 ## rg -> motor 🔼🔼\n",
    "\n",
    "## 2Ia\n",
    "#cut2Ia_conn_probability = 0.1 ## cut -> Ia\n",
    "muscle2Ia_conn_probability = 0.1 ## muscle -> Ia\n",
    "Ia2motor_conn_probability = 0.1 \n",
    "\n",
    "# Commissural projections\n",
    "V0d_conn_probability = 0.2\n",
    "V2a_conn_probability = 0.2\n",
    "V0v_conn_probability = 0.2\n",
    "In1_conn_probability = 0.1\n",
    "InX_conn_probability = 0.1\n",
    "bs_e2rg_conn_probability = 0.10 # 0.05\n",
    "bs_f2rg_conn_probability = 0.01 # 0.05\n",
    "\n",
    "# STDP\n",
    "cut_stdp_synapse_probability = 0.9 # 0.01 # 0.9 ## 0.1 ## cut -> rg 🔼🔼\n",
    "muscle_stdp_synapse_probability = 0.01 # 0.9 # 0.9 ## 0.1 ## cut -> rg\n",
    "InX_stdp_synapse_probability = 0.1 # 0.9 ## E->InE->F & F->InF->E\n",
    "default_stdp_mode = 0\n",
    "default_stdp_s = 1e-10 \n",
    "default_stdp_c = 1e-10\n",
    "default_stdp_d = 0\n",
    "cut_stdp_mode = default_stdp_mode\n",
    "cut_stdp_s = 1e-10 # 1.0 # 1e-3 # 1e-10 \n",
    "cut_stdp_c = 1e-10 # 1.0 # 1e-3 # 1e-10 \n",
    "cut_stdp_d = default_stdp_d \n",
    "\n",
    "# Weights \n",
    "default_weight = 20. # 100. # 10. ##100.\n",
    "cut_weight = 40. # 50. # 70. # 50 # 70. # 100. # \n",
    "bs_weight = 10. ## 30.\n",
    "motor_weight = 100. # 100.0 \n",
    "\n",
    "# Nubers and frequencies\n",
    "## Cut fibers \n",
    "cut_fibers_num = 100 ## 24 ## 100\n",
    "cut_fibers_freq = 50*Hz #200*Hz\n",
    "\n",
    "## Brain stem\n",
    "bs_e_fibers_num = 100\n",
    "bs_e_fibers_freq = 1.0*Hz\n",
    "bs_f_fibers_num = 100\n",
    "bs_f_fibers_freq_lo = 0.1*Hz\n",
    "bs_f_fibers_freq_hi = 5*Hz\n",
    "\n",
    "## Muscles\n",
    "muscle_fibers_num = 100 # 8 #100\n",
    "# [20,50,20,50,20]*Hz\n",
    "muscle_fibers_freq_hi = 50*Hz\n",
    "muscle_fibers_freq_lo = 20*Hz\n",
    "\n",
    "## V3\n",
    "V3_F_num = 200\n",
    "V3_F_freq_lo = 5*Hz \n",
    "V3_F_freq_hi = 200*Hz \n",
    "\n",
    "V0v_num = 100\n",
    "V2a_num = 100\n",
    "In1_num = 100\n",
    "V0d_num = 100\n",
    "InX_num = 100\n",
    "Ia_num = 100\n",
    "rg_num = 200 # 48 # 200\n",
    "motor_num = 200 # 48 # 200\n",
    "\n",
    "## Neurons\n",
    "taum = 10*ms\n",
    "Ee = 0*mV\n",
    "vt = -54*mV\n",
    "vr = -60*mV\n",
    "El = -74*mV\n",
    "taue = 5*ms\n",
    "\n",
    "## STDP\n",
    "taupre = 20*ms\n",
    "taupost = taupre\n",
    "## gmax = 10 \n",
    "gmax = 70. # 30.0 # .01\n",
    "## dApre = 1 \n",
    "dApre = 0.01 # 0.1 # 0.01 # 1.0 # .01 # .01 🔽\n",
    "dApost = -dApre * taupre / taupost * 1.05\n",
    "dApost *= gmax\n",
    "dApre *= gmax\n",
    "#Monitors \n",
    "stdp_monitor_dt= 20*ms ##5*ms\n",
    "delay_max = 3*ms\n",
    "\n",
    "## Dopamine signaling\n",
    "tauc = 1000*ms\n",
    "taud = 200*ms\n",
    "taus = 1*ms\n",
    "epsilon_dopa = 5e-3\n",
    "\n",
    "print('Parameters set ...')"
   ]
  },
  {
   "cell_type": "markdown",
   "metadata": {
    "id": "BHfSiXm2_ShS"
   },
   "source": [
    "## Network 2 legs\n",
    "\n",
    "![](https://raw.githubusercontent.com/max-talanov/1/master/bypass/CPG_feedback_loops.png)\n"
   ]
  },
  {
   "cell_type": "markdown",
   "metadata": {},
   "source": [
    "### Left leg"
   ]
  },
  {
   "cell_type": "markdown",
   "metadata": {},
   "source": [
    "#### Extensor"
   ]
  },
  {
   "cell_type": "code",
   "execution_count": 6,
   "metadata": {
    "ExecuteTime": {
     "end_time": "2023-07-06T14:03:08.274314Z",
     "start_time": "2023-07-06T14:03:07.402269Z"
    },
    "code_folding": [],
    "colab": {
     "base_uri": "https://localhost:8080/"
    },
    "executionInfo": {
     "elapsed": 41942,
     "status": "ok",
     "timestamp": 1683228791608,
     "user": {
      "displayName": "Max Talanov",
      "userId": "12188531022269960772"
     },
     "user_tz": -120
    },
    "id": "lM90DvhG_VzF",
    "outputId": "0dcdaf56-393b-49de-8850-ae0182ef9930"
   },
   "outputs": [
    {
     "data": {
      "text/plain": [
       "Synapses(clock=Clock(dt=100. * usecond, name='defaultclock'), when=start, order=0, name='synapses_4')"
      ]
     },
     "execution_count": 6,
     "metadata": {},
     "output_type": "execute_result"
    }
   ],
   "source": [
    "# Setting the stage\n",
    "start_scope()\n",
    "\n",
    "# Extensor\n",
    "# Inputs\n",
    "l_e_poisson_cut_input = PoissonGroup(cut_fibers_num, rates=cut_fibers_freq)\n",
    "l_e_poisson_muscle_input = PoissonGroup(muscle_fibers_num, rates=muscle_fibers_freq_lo)\n",
    "# Rythm generators\n",
    "l_e_rg_neurons = generate_Izhi_neurons(rg_num)\n",
    "#l_e_rg_neurons.v = vr\n",
    "# Motor neurons\n",
    "l_e_motor_neurons = generate_Izhi_neurons(motor_num)\n",
    "#l_e_motor_neurons.v = vr\n",
    "## synapse = generate_simple_synapses(spike_input, neurons)\n",
    "l_e_cut2rg = generate_simple_synapses(l_e_poisson_cut_input, l_e_rg_neurons)\n",
    "l_e_cut2rg.connect(condition='j==2*i or j==(2*i+1)', p=cut2rg_conn_probability)\n",
    "l_e_cut2rg.s = cut_weight\n",
    "\n",
    "## synapse = generate_simple_synapses(spike_input, neurons)\n",
    "l_e_muscle2rg = generate_simple_synapses(l_e_poisson_muscle_input, l_e_rg_neurons)\n",
    "l_e_muscle2rg.connect(p=muscle2rg_conn_probability)\n",
    "## l_e_muscle2rg.s = 100. * mV\n",
    "l_e_muscle2rg.s = default_weight\n",
    "\n",
    "l_e_rg2motor = generate_simple_synapses(l_e_rg_neurons, l_e_motor_neurons)\n",
    "l_e_rg2motor.connect(condition='j==i', p=rg2motor_conn_probability)\n",
    "## l_e_rg2motor.s = 100. * mV\n",
    "l_e_rg2motor.s = motor_weight \n",
    "\n",
    "## cut stdp synapses\n",
    "l_e_cut2rg_stdp = generate_ex_STDP_DA_synapses(l_e_poisson_cut_input, l_e_rg_neurons)\n",
    "l_e_cut2rg_stdp.connect(condition='j==2*i or j==(2*i+1)', p=cut_stdp_synapse_probability)\n",
    "l_e_cut2rg_stdp.mode = cut_stdp_mode\n",
    "l_e_cut2rg_stdp.s = cut_stdp_s\n",
    "l_e_cut2rg_stdp.c = cut_stdp_c\n",
    "l_e_cut2rg_stdp.d = cut_stdp_d\n",
    "# e_cut2rg_stdp.s = 'rand() * 2 * gmax - gmax'\n",
    "l_e_cut2rg_stdp.pre.delay = 'rand() * delay_max'\n",
    "\n",
    "##muscle stdp synapses\n",
    "l_e_muscle2rg_stdp = generate_ex_STDP_DA_synapses(l_e_poisson_muscle_input, l_e_rg_neurons)\n",
    "l_e_muscle2rg_stdp.connect(p=muscle_stdp_synapse_probability)\n",
    "l_e_muscle2rg_stdp.mode = default_stdp_mode\n",
    "l_e_muscle2rg_stdp.s = default_stdp_s\n",
    "l_e_muscle2rg_stdp.c = default_stdp_c\n",
    "l_e_muscle2rg_stdp.d = default_stdp_d\n",
    "# l_e_muscle2rg_stdp.s = 'rand() * 2 * gmax - gmax'\n",
    "l_e_muscle2rg_stdp.pre.delay = 'rand() * delay_max'\n",
    "\n",
    "l_e_muscle2rg_stdp"
   ]
  },
  {
   "cell_type": "markdown",
   "metadata": {
    "heading_collapsed": true
   },
   "source": [
    "#### Flexor"
   ]
  },
  {
   "cell_type": "raw",
   "metadata": {
    "colab": {
     "base_uri": "https://localhost:8080/"
    },
    "executionInfo": {
     "elapsed": 41942,
     "status": "ok",
     "timestamp": 1683228791608,
     "user": {
      "displayName": "Max Talanov",
      "userId": "12188531022269960772"
     },
     "user_tz": -120
    },
    "hidden": true,
    "id": "lM90DvhG_VzF",
    "outputId": "0dcdaf56-393b-49de-8850-ae0182ef9930"
   },
   "source": [
    "## Flexor\n",
    "# Inputs\n",
    "l_f_poisson_V3_F_input = PoissonGroup(V3_F_num, rates=V3_F_freq_lo)\n",
    "l_f_poisson_muscle_input = PoissonGroup(muscle_fibers_num, rates=muscle_fibers_freq_lo)\n",
    "# Rythm generators\n",
    "#l_f_rg_neurons = generate_Izhi_neurons(rg_num)\n",
    "l_f_rg_neurons = generate_Izhi_chattering_neurons(rg_num)\n",
    "# Motor neurons\n",
    "l_f_motor_neurons = generate_Izhi_neurons(motor_num)\n",
    "#l_f_motor_neurons.v = vr\n",
    "\n",
    "## synapse = generate_simple_synapses(spike_input, neurons)\n",
    "l_f_muscle2rg = generate_simple_synapses(l_f_poisson_muscle_input, l_f_rg_neurons)\n",
    "l_f_muscle2rg.connect(p=muscle2rg_conn_probability)\n",
    "l_f_muscle2rg.s = default_weight\n",
    "\n",
    "l_f_V3_F_2rg = generate_simple_synapses(l_f_poisson_V3_F_input, l_f_rg_neurons)\n",
    "l_f_V3_F_2rg.connect(p=V3_F_2rg_conn_probability)\n",
    "l_f_V3_F_2rg.s = default_weight\n",
    "\n",
    "l_f_rg2motor = generate_simple_synapses(l_f_rg_neurons, l_f_motor_neurons)\n",
    "## f_rg2motor.connect(p=rg2motor_conn_probability)\n",
    "l_f_rg2motor.connect(condition='j==i', p=rg2motor_conn_probability)\n",
    "l_f_rg2motor.s = default_weight\n",
    "\n",
    "## muscle stdp\n",
    "l_f_muscle2rg_stdp = generate_ex_STDP_DA_synapses(l_f_poisson_muscle_input, l_f_rg_neurons)\n",
    "l_f_muscle2rg_stdp.connect(p=muscle_stdp_synapse_probability)\n",
    "l_f_muscle2rg_stdp.mode = default_stdp_mode\n",
    "l_f_muscle2rg_stdp.s = default_stdp_s\n",
    "l_f_muscle2rg_stdp.c = default_stdp_c\n",
    "l_f_muscle2rg_stdp.d = default_stdp_d\n",
    "## l_f_muscle2rg_stdp.s = 'rand() * 2 * gmax - gmax'\n",
    "l_f_muscle2rg_stdp.pre.delay = 'rand() * delay_max'\n",
    "\n",
    "l_f_muscle2rg_stdp"
   ]
  },
  {
   "cell_type": "markdown",
   "metadata": {
    "heading_collapsed": true
   },
   "source": [
    "#### Brain stem"
   ]
  },
  {
   "cell_type": "raw",
   "metadata": {
    "hidden": true
   },
   "source": [
    "# Brainstem drives\n",
    "l_e_poisson_bs_input = PoissonGroup(bs_e_fibers_num, rates=bs_e_fibers_freq)\n",
    "l_f_poisson_bs_input = PoissonGroup(bs_f_fibers_num, rates=bs_f_fibers_freq_lo)\n",
    "\n",
    "l_e_bs2rg = generate_simple_synapses(l_e_poisson_bs_input, l_e_rg_neurons)\n",
    "l_e_bs2rg.connect(p=bs_e2rg_conn_probability)\n",
    "l_e_bs2rg.s = bs_weight \n",
    "\n",
    "l_f_bs2rg = generate_simple_synapses(l_f_poisson_bs_input, l_f_rg_neurons)\n",
    "l_f_bs2rg.connect(p=bs_f2rg_conn_probability)\n",
    "l_f_bs2rg.s = bs_weight \n",
    "\n",
    "l_f_bs2rg"
   ]
  },
  {
   "cell_type": "markdown",
   "metadata": {
    "heading_collapsed": true
   },
   "source": [
    "#### F↔E projections"
   ]
  },
  {
   "cell_type": "raw",
   "metadata": {
    "hidden": true
   },
   "source": [
    "## Inhibitory F<->E projections\n",
    "# Ia interneurons\n",
    "# Extensor\n",
    "l_e_Ia_neurons = generate_Izhi_neurons(Ia_num)\n",
    "# l_e_Ia_neurons.v = vr\n",
    "l_e_muscle2Ia = generate_simple_synapses(l_e_poisson_muscle_input, l_e_Ia_neurons)\n",
    "l_e_muscle2Ia.connect(p=muscle2Ia_conn_probability) \n",
    "l_e_muscle2Ia.s = default_weight\n",
    "# Inhibitory synapses\n",
    "l_e_Ia2motor = generate_simple_synapses(l_e_Ia_neurons, l_f_motor_neurons)\n",
    "l_e_Ia2motor.connect(p=Ia2motor_conn_probability) \n",
    "l_e_Ia2motor.s = -default_weight\n",
    "\n",
    "# Flexor\n",
    "l_f_Ia_neurons = generate_Izhi_neurons(Ia_num)\n",
    "l_f_muscle2Ia = generate_simple_synapses(l_f_poisson_muscle_input, l_f_Ia_neurons)\n",
    "l_f_muscle2Ia.connect(p=muscle2Ia_conn_probability) \n",
    "l_f_muscle2Ia.s = default_weight\n",
    "# Inhibitory synapses\n",
    "l_f_Ia2motor = generate_simple_synapses(l_f_Ia_neurons, l_e_motor_neurons)\n",
    "l_f_Ia2motor.connect(p=Ia2motor_conn_probability) \n",
    "l_f_Ia2motor.s = -default_weight\n",
    "l_f_Ia2motor\n",
    "\n",
    "# InE\n",
    "l_e_InE_neurons = generate_Izhi_neurons(InX_num)\n",
    "l_e_rg2InE = generate_simple_synapses(l_e_rg_neurons, l_e_InE_neurons)\n",
    "l_e_rg2InE.connect(p=InX2X_conn_probability) \n",
    "l_e_rg2InE.s = default_weight \n",
    "# Inhibitory synapses\n",
    "l_e_InE2f_rg = generate_simple_synapses(l_e_InE_neurons, l_f_rg_neurons)\n",
    "l_e_InE2f_rg.connect(p=InX_conn_probability) \n",
    "l_e_InE2f_rg.s = -default_weight\n",
    "\n",
    "## stdp synapses\n",
    "l_e_rg2InE_stdp = generate_ex_STDP_DA_synapses(l_e_rg_neurons, l_e_InE_neurons)\n",
    "l_e_rg2InE_stdp.connect(p=InX_stdp_synapse_probability)\n",
    "l_e_rg2InE_stdp.mode = default_stdp_mode\n",
    "l_e_rg2InE_stdp.s = default_stdp_s\n",
    "l_e_rg2InE_stdp.c = default_stdp_c\n",
    "l_e_rg2InE_stdp.d = default_stdp_d\n",
    "# l_e_rg2InE_stdp.s = 'rand() * 2 * gmax - gmax'\n",
    "l_e_rg2InE_stdp.pre.delay = 'rand() * delay_max'\n",
    "\n",
    "# InF\n",
    "l_f_InF_neurons = generate_Izhi_neurons(InX_num)\n",
    "#l_f_InF_neurons.v = vr\n",
    "l_f_rg2InF = generate_simple_synapses(l_f_rg_neurons, l_f_InF_neurons)\n",
    "l_f_rg2InF.connect(p=InX2X_conn_probability) \n",
    "l_f_rg2InF.s = default_weight\n",
    "# Inhibitory synapses\n",
    "l_f_InF2f_rg = generate_simple_synapses(l_f_InF_neurons, l_e_rg_neurons)\n",
    "l_f_InF2f_rg.connect(p=InX_conn_probability) \n",
    "l_f_InF2f_rg.s = -default_weight \n",
    "\n",
    "## stdp synapses\n",
    "l_f_rg2InE_stdp = generate_ex_STDP_DA_synapses(l_f_rg_neurons, l_f_InF_neurons)\n",
    "l_f_rg2InE_stdp.connect(p=InX_stdp_synapse_probability)\n",
    "l_f_rg2InE_stdp.mode = default_stdp_mode\n",
    "l_f_rg2InE_stdp.s = default_stdp_s\n",
    "l_f_rg2InE_stdp.c = default_stdp_c\n",
    "l_f_rg2InE_stdp.d = default_stdp_d\n",
    "# l_f_rg2InE_stdp.s = 'rand() * 2 * gmax - gmax'\n",
    "l_f_rg2InE_stdp.pre.delay = 'rand() * delay_max'\n",
    "\n",
    "l_f_rg2InE_stdp"
   ]
  },
  {
   "cell_type": "markdown",
   "metadata": {},
   "source": [
    "### Right leg"
   ]
  },
  {
   "cell_type": "markdown",
   "metadata": {},
   "source": [
    "#### Extensor"
   ]
  },
  {
   "cell_type": "code",
   "execution_count": 7,
   "metadata": {
    "ExecuteTime": {
     "end_time": "2023-07-06T14:03:13.104422Z",
     "start_time": "2023-07-06T14:03:12.829165Z"
    }
   },
   "outputs": [
    {
     "data": {
      "text/plain": [
       "Synapses(clock=Clock(dt=100. * usecond, name='defaultclock'), when=start, order=0, name='synapses_9')"
      ]
     },
     "execution_count": 7,
     "metadata": {},
     "output_type": "execute_result"
    }
   ],
   "source": [
    "# Extensor\n",
    "# Inputs\n",
    "r_e_poisson_cut_input = PoissonGroup(cut_fibers_num, rates=cut_fibers_freq)\n",
    "r_e_poisson_muscle_input = PoissonGroup(muscle_fibers_num, rates=muscle_fibers_freq_lo)\n",
    "# Rythm generators\n",
    "r_e_rg_neurons = generate_Izhi_neurons(rg_num)\n",
    "#r_e_rg_neurons.v = vr\n",
    "# Motor neurons\n",
    "r_e_motor_neurons = generate_Izhi_neurons(motor_num)\n",
    "#r_e_motor_neurons.v = vr\n",
    "## synapse = generate_simple_synapses(spike_input, neurons)\n",
    "r_e_cut2rg = generate_simple_synapses(r_e_poisson_cut_input, r_e_rg_neurons)\n",
    "r_e_cut2rg.connect(condition='j==2*i or j==(2*i+1)', p=cut2rg_conn_probability)\n",
    "r_e_cut2rg.s = cut_weight \n",
    "\n",
    "## synapse = generate_simple_synapses(spike_input, neurons)\n",
    "r_e_muscle2rg = generate_simple_synapses(r_e_poisson_muscle_input, r_e_rg_neurons)\n",
    "r_e_muscle2rg.connect(p=muscle2rg_conn_probability)\n",
    "r_e_muscle2rg.s = default_weight\n",
    "\n",
    "r_e_rg2motor = generate_simple_synapses(r_e_rg_neurons, r_e_motor_neurons)\n",
    "## r_e_rg2motor.connect(p=rg2motor_conn_probability) \n",
    "r_e_rg2motor.connect(condition='j==i', p=rg2motor_conn_probability)\n",
    "r_e_rg2motor.s = motor_weight\n",
    "\n",
    "r_e_cut2rg_stdp = generate_ex_STDP_DA_synapses(r_e_poisson_cut_input, r_e_rg_neurons)\n",
    "r_e_cut2rg_stdp.connect(condition='j==2*i or j==(2*i+1)',p=cut_stdp_synapse_probability)\n",
    "r_e_cut2rg_stdp.mode = cut_stdp_mode\n",
    "r_e_cut2rg_stdp.s = cut_stdp_s\n",
    "r_e_cut2rg_stdp.c = cut_stdp_c\n",
    "r_e_cut2rg_stdp.d = cut_stdp_d\n",
    "# r_e_cut2rg_stdp.s = 'rand() * 2 * gmax - gmax'\n",
    "r_e_cut2rg_stdp.pre.delay = 'rand() * delay_max'\n",
    "\n",
    "##muscle stdp synapses\n",
    "r_e_muscle2rg_stdp = generate_ex_STDP_DA_synapses(r_e_poisson_muscle_input, r_e_rg_neurons)\n",
    "r_e_muscle2rg_stdp.connect(p=muscle_stdp_synapse_probability)\n",
    "r_e_muscle2rg_stdp.mode = default_stdp_mode\n",
    "r_e_muscle2rg_stdp.s = default_stdp_s\n",
    "r_e_muscle2rg_stdp.c = default_stdp_c\n",
    "r_e_muscle2rg_stdp.d = default_stdp_d\n",
    "# r_e_muscle2rg_stdp.s = 'rand() * 2 * gmax - gmax'\n",
    "r_e_muscle2rg_stdp.pre.delay = 'rand() * delay_max'\n",
    "\n",
    "r_e_muscle2rg_stdp"
   ]
  },
  {
   "cell_type": "markdown",
   "metadata": {
    "heading_collapsed": true
   },
   "source": [
    "#### Flexor"
   ]
  },
  {
   "cell_type": "raw",
   "metadata": {
    "hidden": true
   },
   "source": [
    "## Flexor\n",
    "# Inputs\n",
    "\n",
    "r_f_poisson_V3_F_input = PoissonGroup(V3_F_num, rates=V3_F_freq_lo)\n",
    "r_f_poisson_muscle_input = PoissonGroup(muscle_fibers_num, rates=muscle_fibers_freq_lo)\n",
    "# Rythm generators\n",
    "r_f_rg_neurons = generate_Izhi_chattering_neurons(rg_num)\n",
    "#r_f_rg_neurons.v = vr\n",
    "# Motor neurons\n",
    "r_f_motor_neurons = generate_Izhi_neurons(motor_num)\n",
    "#r_f_motor_neurons.v = vr\n",
    "\n",
    "## synapse = generate_simple_synapses(spike_input, neurons)\n",
    "r_f_muscle2rg = generate_simple_synapses(r_f_poisson_muscle_input, r_f_rg_neurons)\n",
    "r_f_muscle2rg.connect(p=muscle2rg_conn_probability)\n",
    "r_f_muscle2rg.s = default_weight\n",
    "\n",
    "r_f_V3_F_2rg = generate_simple_synapses(r_f_poisson_V3_F_input, r_f_rg_neurons)\n",
    "r_f_V3_F_2rg.connect(p=V3_F_2rg_conn_probability)\n",
    "r_f_V3_F_2rg.s = default_weight\n",
    "\n",
    "r_f_rg2motor = generate_simple_synapses(r_f_rg_neurons, r_f_motor_neurons)\n",
    "## r_f_rg2motor.connect(p=rg2motor_conn_probability)\n",
    "r_f_rg2motor.connect(condition='j==i', p=rg2motor_conn_probability)\n",
    "r_f_rg2motor.s = default_weight\n",
    "\n",
    "r_f_muscle2rg_stdp = generate_ex_STDP_DA_synapses(r_f_poisson_muscle_input, r_f_rg_neurons)\n",
    "r_f_muscle2rg_stdp.connect(p=cut_stdp_synapse_probability)\n",
    "r_f_muscle2rg_stdp.mode = default_stdp_mode\n",
    "r_f_muscle2rg_stdp.s = default_stdp_s\n",
    "r_f_muscle2rg_stdp.c = default_stdp_c\n",
    "r_f_muscle2rg_stdp.d = default_stdp_d\n",
    "## r_f_muscle2rg_stdp.s = 'rand() * 2 * gmax - gmax'\n",
    "r_f_muscle2rg_stdp.pre.delay = 'rand() * delay_max'\n",
    "##TODO add muscle stdp synapses\n",
    "\n",
    "r_f_muscle2rg_stdp"
   ]
  },
  {
   "cell_type": "markdown",
   "metadata": {
    "heading_collapsed": true
   },
   "source": [
    "#### Brainstem"
   ]
  },
  {
   "cell_type": "raw",
   "metadata": {
    "hidden": true
   },
   "source": [
    "# Brainstem drives\n",
    "r_e_poisson_bs_input = PoissonGroup(bs_e_fibers_num, rates=bs_e_fibers_freq)\n",
    "r_f_poisson_bs_input = PoissonGroup(bs_f_fibers_num, rates=bs_f_fibers_freq_lo)\n",
    "\n",
    "r_e_bs2rg = generate_simple_synapses(r_e_poisson_bs_input, r_e_rg_neurons)\n",
    "r_e_bs2rg.connect(p=bs_e2rg_conn_probability)\n",
    "r_e_bs2rg.s = bs_weight\n",
    "\n",
    "r_f_bs2rg = generate_simple_synapses(r_f_poisson_bs_input, r_f_rg_neurons)\n",
    "r_f_bs2rg.connect(p=bs_f2rg_conn_probability)\n",
    "r_f_bs2rg.s = bs_weight \n",
    "\n",
    "r_f_bs2rg"
   ]
  },
  {
   "cell_type": "markdown",
   "metadata": {
    "heading_collapsed": true
   },
   "source": [
    "#### F↔E projections"
   ]
  },
  {
   "cell_type": "raw",
   "metadata": {
    "hidden": true
   },
   "source": [
    "## Inhibitory F<->E projections\n",
    "# Ia interneurons\n",
    "# Extensor\n",
    "r_e_Ia_neurons = generate_Izhi_neurons(Ia_num)\n",
    "#r_e_Ia_neurons.v = vr\n",
    "\n",
    "r_e_muscle2Ia = generate_simple_synapses(r_e_poisson_muscle_input, r_e_Ia_neurons)\n",
    "r_e_muscle2Ia.connect(p=muscle2Ia_conn_probability) \n",
    "r_e_muscle2Ia.s = default_weight\n",
    "# Inhibitory synapses\n",
    "r_e_Ia2motor = generate_simple_synapses(r_e_Ia_neurons, r_f_motor_neurons)\n",
    "r_e_Ia2motor.connect(p=Ia2motor_conn_probability) \n",
    "r_e_Ia2motor.s = -default_weight\n",
    "\n",
    "# Flexor\n",
    "r_f_Ia_neurons = generate_Izhi_neurons(Ia_num)\n",
    "r_f_muscle2Ia = generate_simple_synapses(r_f_poisson_muscle_input, r_f_Ia_neurons)\n",
    "r_f_muscle2Ia.connect(p=muscle2Ia_conn_probability) \n",
    "r_f_muscle2Ia.s = default_weight\n",
    "# Inhibitory synapses\n",
    "r_f_Ia2motor = generate_simple_synapses(r_f_Ia_neurons, r_e_motor_neurons)\n",
    "r_f_Ia2motor.connect(p=Ia2motor_conn_probability) \n",
    "r_f_Ia2motor.s = -default_weight\n",
    "\n",
    "# InE\n",
    "r_e_InE_neurons = generate_Izhi_neurons(InX_num)\n",
    "r_e_rg2InE = generate_simple_synapses(r_e_rg_neurons, r_e_InE_neurons)\n",
    "r_e_rg2InE.connect(p=InX2X_conn_probability) \n",
    "r_e_rg2InE.s = default_weight\n",
    "# Inhibitory synapses\n",
    "r_e_InE2f_rg = generate_simple_synapses(r_e_InE_neurons, r_f_rg_neurons)\n",
    "r_e_InE2f_rg.connect(p=InX_conn_probability) \n",
    "r_e_InE2f_rg.s = -default_weight\n",
    "## stdp synapses\n",
    "r_e_rg2InE_stdp = generate_ex_STDP_DA_synapses(r_e_rg_neurons, r_e_InE_neurons)\n",
    "r_e_rg2InE_stdp.connect(p=InX_stdp_synapse_probability)\n",
    "r_e_rg2InE_stdp.mode = default_stdp_mode\n",
    "r_e_rg2InE_stdp.s = default_stdp_s\n",
    "r_e_rg2InE_stdp.c = default_stdp_c\n",
    "r_e_rg2InE_stdp.d = default_stdp_d\n",
    "# r_e_rg2InE_stdp.s = 'rand() * 2 * gmax - gmax'\n",
    "r_e_rg2InE_stdp.pre.delay = 'rand() * delay_max'\n",
    "\n",
    "# InF\n",
    "r_f_InF_neurons = generate_Izhi_neurons(InX_num)\n",
    "#r_f_InF_neurons.v = vr\n",
    "r_f_rg2InF = generate_simple_synapses(r_f_rg_neurons, r_f_InF_neurons)\n",
    "r_f_rg2InF.connect(p=InX2X_conn_probability) \n",
    "r_f_rg2InF.s = default_weight\n",
    "# Inhibitory synapses\n",
    "r_f_InF2f_rg = generate_simple_synapses(r_f_InF_neurons, r_e_rg_neurons)\n",
    "r_f_InF2f_rg.connect(p=InX_conn_probability) \n",
    "r_f_InF2f_rg.s = -default_weight\n",
    "## stdp synapses\n",
    "r_f_rg2InF_stdp = generate_ex_STDP_DA_synapses(r_f_rg_neurons, r_f_InF_neurons)\n",
    "r_f_rg2InF_stdp.connect(p=InX_stdp_synapse_probability)\n",
    "r_f_rg2InF_stdp.mode = default_stdp_mode\n",
    "r_f_rg2InF_stdp.s = default_stdp_s\n",
    "r_f_rg2InF_stdp.c = default_stdp_c\n",
    "r_f_rg2InF_stdp.d = default_stdp_d\n",
    "# r_f_rg2InF_stdp.s = 'rand() * 2 * gmax - gmax'\n",
    "r_f_rg2InF_stdp.pre.delay = 'rand() * delay_max'\n",
    "\n",
    "r_f_rg2InF_stdp"
   ]
  },
  {
   "cell_type": "markdown",
   "metadata": {
    "heading_collapsed": true
   },
   "source": [
    "### left↔right coordination "
   ]
  },
  {
   "cell_type": "raw",
   "metadata": {
    "hidden": true
   },
   "source": [
    "# Inhibitory left↔right coordination \n",
    "## V0d\n",
    "## Left leg\n",
    "l_f_V0d_neurons = generate_Izhi_neurons(V0d_num)\n",
    "#l_f_V0d_neurons.v = vr\n",
    "l_f_rg2V0d = generate_simple_synapses(l_f_rg_neurons, l_f_V0d_neurons)\n",
    "l_f_rg2V0d.connect(p=V0d_conn_probability) \n",
    "l_f_rg2V0d.s = default_weight\n",
    "# Inhibitory synapses\n",
    "l_f_V0d2r_f_rg = generate_simple_synapses(l_f_V0d_neurons, r_f_rg_neurons)\n",
    "l_f_V0d2r_f_rg.connect(p=V0d_conn_probability) \n",
    "l_f_V0d2r_f_rg.s = -default_weight\n",
    "l_f_V0d2r_f_rg\n",
    "\n",
    "## Right leg\n",
    "r_f_V0d_neurons = generate_Izhi_neurons(V0d_num)\n",
    "r_f_rg2V0d = generate_simple_synapses(r_f_rg_neurons, r_f_V0d_neurons)\n",
    "r_f_rg2V0d.connect(p=V0d_conn_probability) \n",
    "r_f_rg2V0d.s = default_weight\n",
    "# Inhibitory synapses\n",
    "r_f_V0d2r_f_rg = generate_simple_synapses(r_f_V0d_neurons, l_f_rg_neurons)\n",
    "r_f_V0d2r_f_rg.connect(p=V0d_conn_probability) \n",
    "r_f_V0d2r_f_rg.s = -default_weight\n",
    "r_f_V0d2r_f_rg\n",
    "\n",
    "## V0v\n",
    "## Neurons\n",
    "## Left leg\n",
    "l_f_V2a_neurons = generate_Izhi_neurons(V2a_num)\n",
    "#l_f_V2a_neurons.v = vr\n",
    "l_f_V0v_neurons = generate_Izhi_neurons(V0v_num)\n",
    "#l_f_V0v_neurons.v = vr\n",
    "l_f_In1_neurons = generate_Izhi_neurons(In1_num)\n",
    "#l_f_In1_neurons.v = vr\n",
    "## Right leg\n",
    "r_f_V2a_neurons = generate_Izhi_neurons(V2a_num)\n",
    "#r_f_V2a_neurons.v = vr\n",
    "r_f_V0v_neurons = generate_Izhi_neurons(V0v_num)\n",
    "#r_f_V0v_neurons.v = vr\n",
    "r_f_In1_neurons = generate_Izhi_neurons(In1_num)\n",
    "#r_f_In1_neurons.v = vr\n",
    "\n",
    "## Left leg\n",
    "# Synapses \n",
    "l_f_rg2V2a = generate_simple_synapses(l_f_rg_neurons, l_f_V2a_neurons)\n",
    "l_f_rg2V2a.connect(p=V2a_conn_probability) \n",
    "l_f_rg2V2a.s = default_weight\n",
    "l_f_V2a2f_V0v = generate_simple_synapses(l_f_V2a_neurons, l_f_V0v_neurons)\n",
    "l_f_V2a2f_V0v.connect(p=V0v_conn_probability) \n",
    "l_f_V2a2f_V0v.s = default_weight\n",
    "l_f_V0v2r_f_In1 = generate_simple_synapses(l_f_V0v_neurons, r_f_In1_neurons)\n",
    "l_f_V0v2r_f_In1.connect(p=V0v_conn_probability) \n",
    "l_f_V0v2r_f_In1.s = default_weight\n",
    "r_f_In12r_f_rg = generate_simple_synapses(r_f_In1_neurons, r_f_rg_neurons)\n",
    "r_f_In12r_f_rg.connect(p=V0v_conn_probability) \n",
    "r_f_In12r_f_rg.s = -default_weight\n",
    "## Right leg\n",
    "# Synapses \n",
    "r_f_rg2V2a = generate_simple_synapses(r_f_rg_neurons, r_f_V2a_neurons)\n",
    "r_f_rg2V2a.connect(p=V2a_conn_probability) \n",
    "r_f_rg2V2a.s = default_weight\n",
    "r_f_V2a2f_V0v = generate_simple_synapses(r_f_V2a_neurons, r_f_V0v_neurons)\n",
    "r_f_V2a2f_V0v.connect(p=V0v_conn_probability) \n",
    "r_f_V2a2f_V0v.s = default_weight\n",
    "r_f_V0v1l_f_In1 = generate_simple_synapses(r_f_V0v_neurons, l_f_In1_neurons)\n",
    "r_f_V0v1l_f_In1.connect(p=V0v_conn_probability) \n",
    "r_f_V0v1l_f_In1.s = default_weight\n",
    "l_f_In12l_f_rg = generate_simple_synapses(l_f_In1_neurons, l_f_rg_neurons)\n",
    "l_f_In12l_f_rg.connect(p=V0v_conn_probability) \n",
    "l_f_In12l_f_rg.s = -default_weight\n",
    "l_f_In12l_f_rg\n"
   ]
  },
  {
   "cell_type": "markdown",
   "metadata": {
    "id": "5sGbCEeTosFK"
   },
   "source": [
    "## Monitors"
   ]
  },
  {
   "cell_type": "code",
   "execution_count": 8,
   "metadata": {
    "ExecuteTime": {
     "end_time": "2023-07-06T14:03:16.663229Z",
     "start_time": "2023-07-06T14:03:16.617711Z"
    },
    "code_folding": [],
    "executionInfo": {
     "elapsed": 17,
     "status": "ok",
     "timestamp": 1683228791611,
     "user": {
      "displayName": "Max Talanov",
      "userId": "12188531022269960772"
     },
     "user_tz": -120
    },
    "id": "_3RK57MZoE7b"
   },
   "outputs": [
    {
     "name": "stdout",
     "output_type": "stream",
     "text": [
      "Monitor setup complete ...\n"
     ]
    }
   ],
   "source": [
    "# Left leg\n",
    "## Extensor\n",
    "l_e_cut_monitor = SpikeMonitor(l_e_poisson_cut_input)\n",
    "l_e_muscle_monitor = SpikeMonitor(l_e_poisson_muscle_input)\n",
    "#l_e_bs_monitor = SpikeMonitor(l_e_poisson_bs_input)\n",
    "l_e_rg_neurons_monitor = SpikeMonitor(l_e_rg_neurons)\n",
    "l_e_motor_neurons_monitor = SpikeMonitor(l_e_motor_neurons)\n",
    "#l_e_Ia_neurons_monitor = SpikeMonitor(l_e_Ia_neurons)\n",
    "## Voltages\n",
    "l_e_motor_neurons_voltages = StateMonitor(l_e_motor_neurons, 'v', record=True, dt=stdp_monitor_dt)\n",
    "l_e_cut2rg_stdp_monitor = StateMonitor(l_e_cut2rg_stdp, 's', record=True, dt=stdp_monitor_dt)\n",
    "l_e_muscle2rg_stdp_monitor = StateMonitor(l_e_muscle2rg_stdp, 's', record=True, dt=stdp_monitor_dt)\n",
    "#l_e_rg2InE_stdp_monitor = StateMonitor(l_e_rg2InE_stdp, 's', record=True, dt=stdp_monitor_dt)\n",
    "## Flexor\n",
    "# l_f_muscle_monitor = SpikeMonitor(l_f_poisson_muscle_input)\n",
    "# l_f_V3_F_monitor = SpikeMonitor(l_f_poisson_V3_F_input)\n",
    "# l_f_rg_neurons_monitor = SpikeMonitor(l_f_rg_neurons)\n",
    "# l_f_motor_neurons_monitor = SpikeMonitor(l_f_motor_neurons)\n",
    "# l_f_Ia_neurons_monitor = SpikeMonitor(l_f_Ia_neurons)\n",
    "# l_f_V0d_neurons_monitor = SpikeMonitor(l_f_V0d_neurons)\n",
    "# l_f_In1_neurons_monitor = SpikeMonitor(l_f_In1_neurons)\n",
    "# l_f_bs_monitor = SpikeMonitor(l_f_poisson_bs_input)\n",
    "## Voltages\n",
    "# l_f_motor_neurons_voltages = StateMonitor(l_f_motor_neurons, 'v', record=True, dt=stdp_monitor_dt)\n",
    "# l_f_muscle2rg_stdp_monitor = StateMonitor(l_f_muscle2rg_stdp, 's', record=True, dt=stdp_monitor_dt)\n",
    "# l_f_rg2InE_stdp_monitor = StateMonitor(l_f_rg2InE_stdp, 's', record=True, dt=stdp_monitor_dt)\n",
    "# Right leg\n",
    "## Extensor\n",
    "r_e_cut_monitor = SpikeMonitor(r_e_poisson_cut_input)\n",
    "r_e_muscle_monitor = SpikeMonitor(r_e_poisson_muscle_input)\n",
    "#r_e_bs_monitor = SpikeMonitor(r_e_poisson_bs_input)\n",
    "r_e_rg_neurons_monitor = SpikeMonitor(r_e_rg_neurons)\n",
    "r_e_motor_neurons_monitor = SpikeMonitor(r_e_motor_neurons)\n",
    "#r_e_Ia_neurons_monitor = SpikeMonitor(r_e_Ia_neurons)\n",
    "\n",
    "## Voltages\n",
    "r_e_motor_neurons_voltages = StateMonitor(r_e_motor_neurons, 'v', record=True, dt=stdp_monitor_dt)\n",
    "r_e_cut2rg_stdp_monitor = StateMonitor(r_e_cut2rg_stdp, 's', record=True, dt=stdp_monitor_dt)\n",
    "r_e_muscle2rg_stdp_monitor = StateMonitor(r_e_muscle2rg_stdp, 's', record=True, dt=stdp_monitor_dt)\n",
    "#r_e_rg2InE_stdp_monitor = StateMonitor(r_e_rg2InE_stdp, 's', record=True, dt=stdp_monitor_dt)\n",
    "\n",
    "## Flexor\n",
    "# r_f_muscle_monitor = SpikeMonitor(r_f_poisson_muscle_input)\n",
    "# r_f_V3_F_monitor = SpikeMonitor(r_f_poisson_V3_F_input)\n",
    "# r_f_rg_neurons_monitor = SpikeMonitor(r_f_rg_neurons)\n",
    "# r_f_motor_neurons_monitor = SpikeMonitor(r_f_motor_neurons)\n",
    "# r_f_Ia_neurons_monitor = SpikeMonitor(r_f_Ia_neurons)\n",
    "# r_f_V0d_neurons_monitor = SpikeMonitor(r_f_V0d_neurons)\n",
    "# r_f_In1_neurons_monitor = SpikeMonitor(r_f_In1_neurons)\n",
    "# r_f_bs_monitor = SpikeMonitor(r_f_poisson_bs_input)\n",
    "\n",
    "## Voltages\n",
    "# r_f_motor_neurons_voltages = StateMonitor(r_f_motor_neurons, 'v', record=True, dt=stdp_monitor_dt)\n",
    "# r_f_muscle2rg_stdp_monitor = StateMonitor(r_f_muscle2rg_stdp, 's', record=True, dt=stdp_monitor_dt)\n",
    "# r_f_rg2InE_stdp_monitor = StateMonitor(r_f_rg2InF_stdp, 's', record=True, dt=stdp_monitor_dt)\n",
    "\n",
    "print('Monitor setup complete ...')"
   ]
  },
  {
   "cell_type": "markdown",
   "metadata": {
    "id": "QPwpf1S0GNHO"
   },
   "source": [
    "# Run \n",
    "![](https://raw.githubusercontent.com/max-talanov/1/master/bypass/step_phases.png)"
   ]
  },
  {
   "cell_type": "code",
   "execution_count": 9,
   "metadata": {
    "ExecuteTime": {
     "end_time": "2023-07-06T14:03:19.276441Z",
     "start_time": "2023-07-06T14:03:19.148103Z"
    }
   },
   "outputs": [
    {
     "name": "stdout",
     "output_type": "stream",
     "text": [
      "/home/talanov/brian2/bypass/out/long_run\r\n"
     ]
    }
   ],
   "source": [
    "!pwd"
   ]
  },
  {
   "cell_type": "code",
   "execution_count": 10,
   "metadata": {
    "ExecuteTime": {
     "end_time": "2023-07-06T14:24:55.674315Z",
     "start_time": "2023-07-06T14:03:22.104779Z"
    },
    "code_folding": [
     12,
     15,
     80,
     84,
     119,
     135
    ],
    "colab": {
     "base_uri": "https://localhost:8080/"
    },
    "executionInfo": {
     "elapsed": 2525880,
     "status": "ok",
     "timestamp": 1683231325118,
     "user": {
      "displayName": "Max Talanov",
      "userId": "12188531022269960772"
     },
     "user_tz": -120
    },
    "id": "KtKdK5uwGPMb",
    "outputId": "8cc7d951-c01a-4d90-de0a-82fda5340a5d",
    "scrolled": false
   },
   "outputs": [
    {
     "name": "stdout",
     "output_type": "stream",
     "text": [
      "Simulation started ...\n",
      "step=0\n",
      "step=1\n",
      "step=2\n",
      "step=3\n",
      "step=4\n",
      "step=5\n",
      "step=6\n",
      "step=7\n",
      "step=8\n",
      "step=9\n",
      "step=10\n",
      "step=11\n",
      "step=12\n",
      "step=13\n",
      "step=14\n",
      "step=15\n",
      "step=16\n",
      "step=17\n",
      "step=18\n",
      "step=19\n",
      "Simulation ended ...\n"
     ]
    }
   ],
   "source": [
    "# Simulation\n",
    "## Classical STDP\n",
    "#synapse_stdp.mode = 0\n",
    "## Split simulation in N chanks and switch on sequentally \n",
    "dur = int(swing_stance_duration/simulation_step_phases)\n",
    "cut_chank = int(len(l_e_poisson_cut_input)/simulation_hill_toe_phases)\n",
    "print('Simulation started ...')\n",
    "## print (dur)\n",
    "## print (cut_chank)\n",
    "steps_to_save = 60\n",
    "save_path_prefix = './'\n",
    "\n",
    "for step in range(steps_num): \n",
    "    print ('step=' + str(step))\n",
    "    ## TODO update into swing and stance\n",
    "    if ((step % steps_to_save) == 0) and step > 0:\n",
    "        save_path_run = save_path_prefix + str(step)\n",
    "        # Left leg\n",
    "        ## Extensor \n",
    "        # Save states\n",
    "        l_e_synapse_stdp_monitor=save_reset_state_monitor(l_e_cut2rg_stdp_monitor, save_path_run, \n",
    "                                                        'l_e_cut2rg_weigts', 's', \n",
    "                                                  stdp_monitor_dt, l_e_cut2rg_stdp)\n",
    "        l_e_motor_neurons_voltages=save_reset_state_monitor(l_e_motor_neurons_voltages, save_path_run, \n",
    "                                                    'l_e_motor_neurons_voltages', 'v', \n",
    "                                                    stdp_monitor_dt, l_e_motor_neurons)\n",
    "        # Save spikes\n",
    "        l_e_motor_neurons_monitor=save_reset_spike_monitor(l_e_motor_neurons_monitor, save_path_run, \n",
    "                                                   'l_e_motor_neurons_spikes', l_e_motor_neurons)\n",
    "        l_e_rg_neurons_monitor=save_reset_spike_monitor(l_e_rg_neurons_monitor, save_path_run, \n",
    "                                                   'l_e_rg_neurons_spikes', l_e_rg_neurons)\n",
    "        l_e_cut_monitor=save_reset_spike_monitor(l_e_cut_monitor, save_path_run, \n",
    "                                                   'l_e_cut_spikes', l_e_poisson_cut_input)\n",
    "        l_e_muscle_monitor=save_reset_spike_monitor(l_e_muscle_monitor, save_path_run, \n",
    "                                                   'l_e_muscle_spikes', l_e_poisson_muscle_input)\n",
    "#        l_e_Ia_neurons_monitor=save_reset_spike_monitor(l_e_Ia_neurons_monitor, save_path_run, \n",
    "#                                                   'l_e_Ia_spikes', l_e_Ia_neurons)\n",
    "  \n",
    "        ## Flexor \n",
    "        # Save states\n",
    "#         l_f_synapse_stdp_monitor=save_reset_state_monitor(l_f_muscle2rg_stdp_monitor, save_path_run, \n",
    "#                                                         'l_f_muscle2rg_weigts', 's', \n",
    "#                                                         stdp_monitor_dt, l_f_muscle2rg_stdp)\n",
    "#         l_f_motor_neurons_voltages=save_reset_state_monitor(l_f_motor_neurons_voltages, save_path_run, \n",
    "#                                                           'l_f_motor_neurons_voltages', 'v', \n",
    "#                                                           stdp_monitor_dt, l_f_motor_neurons)\n",
    "#         # Save spikes\n",
    "#         l_f_motor_neurons_monitor=save_reset_spike_monitor(l_f_motor_neurons_monitor, save_path_run, \n",
    "#                                                    'l_f_motor_neurons_spikes', l_f_motor_neurons)\n",
    "#         l_f_rg_neurons_monitor=save_reset_spike_monitor(l_f_rg_neurons_monitor, save_path_run, \n",
    "#                                                    'l_f_rg_neurons_spikes', l_f_rg_neurons)\n",
    "#         l_f_muscle_monitor=save_reset_spike_monitor(l_f_muscle_monitor, save_path_run, \n",
    "#                                                    'l_f_muscle_spikes', l_f_poisson_muscle_input)\n",
    "#         l_f_V3_F_monitor=save_reset_spike_monitor(l_f_V3_F_monitor, save_path_run, \n",
    "#                                                    'l_f_V3_F_spikes', l_f_poisson_V3_F_input)\n",
    "#         l_f_Ia_neurons_monitor=save_reset_spike_monitor(l_f_Ia_neurons_monitor, save_path_run, \n",
    "#                                                    'l_f_Ia_spikes', l_f_Ia_neurons)\n",
    "#         l_f_V0d_neurons_monitor=save_reset_spike_monitor(l_f_V0d_neurons_monitor, save_path_run, \n",
    "#                                                    'l_f_V0d_spikes', l_f_V0d_neurons)\n",
    "#         l_f_In1_neurons_monitor=save_reset_spike_monitor(l_f_In1_neurons_monitor, save_path_run, \n",
    "#                                                    'l_f_In1_spikes', l_f_In1_neurons)\n",
    "        \n",
    "        # Right leg\n",
    "        ## Extensor \n",
    "        # Save states\n",
    "        r_e_synapse_stdp_monitor=save_reset_state_monitor(r_e_cut2rg_stdp_monitor, save_path_run, \n",
    "                                                        'r_e_cut2rg_weigts', 's', \n",
    "                                                  stdp_monitor_dt, r_e_cut2rg_stdp)\n",
    "        r_e_motor_neurons_voltages=save_reset_state_monitor(r_e_motor_neurons_voltages, save_path_run, \n",
    "                                                    'r_e_motor_neurons_voltages', 'v', \n",
    "                                                    stdp_monitor_dt, r_e_motor_neurons)\n",
    "        # Save spikes\n",
    "        r_e_motor_neurons_monitor=save_reset_spike_monitor(r_e_motor_neurons_monitor, save_path_run, \n",
    "                                                   'r_e_motor_neurons_spikes', r_e_motor_neurons)\n",
    "        r_e_rg_neurons_monitor=save_reset_spike_monitor(r_e_rg_neurons_monitor, save_path_run, \n",
    "                                                   'r_e_rg_neurons_spikes', r_e_rg_neurons)\n",
    "        r_e_cut_monitor=save_reset_spike_monitor(r_e_cut_monitor, save_path_run, \n",
    "                                                   'r_e_cut_spikes', r_e_poisson_cut_input)\n",
    "        r_e_muscle_monitor=save_reset_spike_monitor(r_e_muscle_monitor, save_path_run, \n",
    "                                                   'r_e_muscle_spikes', r_e_poisson_muscle_input)\n",
    "#        r_e_Ia_neurons_monitor=save_reset_spike_monitor(r_e_Ia_neurons_monitor, save_path_run, \n",
    "#                                                   'r_e_Ia_spikes', r_e_Ia_neurons)  \n",
    "        ## Flexor \n",
    "        # Save states\n",
    "#         r_f_synapse_stdp_monitor=save_reset_state_monitor(r_f_muscle2rg_stdp_monitor, save_path_run, \n",
    "#                                                         'r_f_muscle2rg_weigts', 's', \n",
    "#                                                         stdp_monitor_dt, r_f_muscle2rg_stdp)\n",
    "#         r_f_motor_neurons_voltages=save_reset_state_monitor(r_f_motor_neurons_voltages, save_path_run, \n",
    "#                                                           'r_f_motor_neurons_voltages', 'v', \n",
    "#                                                           stdp_monitor_dt, r_f_motor_neurons)\n",
    "#         # Save spikes\n",
    "#         r_f_motor_neurons_monitor=save_reset_spike_monitor(r_f_motor_neurons_monitor, save_path_run, \n",
    "#                                                    'r_f_motor_neurons_spikes', r_f_motor_neurons)\n",
    "#         r_f_rg_neurons_monitor=save_reset_spike_monitor(r_f_rg_neurons_monitor, save_path_run, \n",
    "#                                                    'r_f_rg_neurons_spikes', r_f_rg_neurons)\n",
    "#         r_f_muscle_monitor=save_reset_spike_monitor(r_f_muscle_monitor, save_path_run, \n",
    "#                                                    'r_f_muscle_spikes', r_f_poisson_muscle_input)\n",
    "#         r_f_V3_F_monitor=save_reset_spike_monitor(l_f_V3_F_monitor, save_path_run, \n",
    "#                                                    'r_f_V3_F_spikes', r_f_poisson_V3_F_input)\n",
    "#         r_f_Ia_neurons_monitor=save_reset_spike_monitor(l_f_Ia_neurons_monitor, save_path_run, \n",
    "#                                                    'r_f_Ia_spikes', r_f_Ia_neurons)\n",
    "#         r_f_V0d_neurons_monitor = save_reset_spike_monitor(r_f_V0d_neurons_monitor, save_path_run, \n",
    "#                                                    'r_f_V0d_spikes', r_f_V0d_neurons)\n",
    "#         r_f_In1_neurons_monitor = save_reset_spike_monitor(r_f_In1_neurons_monitor, save_path_run, \n",
    "#                                                    'r_f_In1_spikes', r_f_In1_neurons)\n",
    "\n",
    "    swing_stance_phase = 0\n",
    "    ## Left leg: Stance phase\n",
    "    ## Right leg: Swing phase\n",
    "    l_e_poisson_cut_input.rates = 0*Hz\n",
    "    l_e_poisson_muscle_input.rates = 0*Hz\n",
    "#     l_f_poisson_muscle_input.rates = 0*Hz\n",
    "#     l_f_poisson_V3_F_input.rates = 0*Hz\n",
    "#     l_f_poisson_bs_input.rates = 0*Hz\n",
    "    r_e_poisson_cut_input.rates = 0*Hz\n",
    "    r_e_poisson_muscle_input.rates = 0*Hz    \n",
    "#     r_f_poisson_muscle_input.rates = 0*Hz\n",
    "#     r_f_poisson_V3_F_input.rates = 0*Hz\n",
    "#     r_f_poisson_bs_input.rates = 0*Hz\n",
    "    for phase in range(simulation_step_phases):\n",
    "        ### Left leg\n",
    "        ## print ('stance phase=' + str(phase))\n",
    "        l_e_cut_chank_number = identity_cut_chank(phase)\n",
    "        # e_cut_chank_number = identity_cut_chank_no_intersections(phase)\n",
    "        l_e_muscle_chank_freq = identify_muscle_freq(phase, muscle_fibers_freq_hi, muscle_fibers_freq_lo)\n",
    "        ## print (cut_chank_number)\n",
    "        ## print (muscle_chank_freq)\n",
    "        l_e_poisson_cut_input[:].rates = 0*Hz\n",
    "        for chn in l_e_cut_chank_number:\n",
    "            ## print (str(chn*cut_chank) + \": \" + str((chn+1)*cut_chank-1))\n",
    "            l_e_poisson_cut_input[chn*cut_chank:(chn+1)*cut_chank-1].rates = 200*Hz\n",
    "            ## print (poisson_cut_input)\n",
    "        l_e_poisson_muscle_input.rates = l_e_muscle_chank_freq\n",
    "        ### Right leg\n",
    "        ## print ('swing phase=' + str(phase))\n",
    "#         r_f_muscle_chank_freq = identify_muscle_freq(phase, muscle_fibers_freq_hi, muscle_fibers_freq_lo)\n",
    "#         r_f_V3_F_chank_freq = identify_V3_F_freq(phase, V3_F_freq_hi, V3_F_freq_lo)\n",
    "#         ## print (muscle_chank_freq)\n",
    "#         r_f_poisson_muscle_input.rates = r_f_muscle_chank_freq\n",
    "#         r_f_poisson_V3_F_input.rates = r_f_V3_F_chank_freq\n",
    "#         r_f_poisson_bs_input.rates = identify_bs_freq(swing_stance_phase*10+phase, \n",
    "#                                                       bs_f_fibers_freq_hi, bs_f_fibers_freq_lo, \n",
    "#                                                       simulation_step_phases*2)\n",
    "#         l_f_poisson_bs_input.rates = identify_bs_freq(swing_stance_phase*10+phase, \n",
    "#                                                       bs_f_fibers_freq_hi, bs_f_fibers_freq_lo, \n",
    "#                                                       simulation_step_phases*2)\n",
    "        \n",
    "        run(dur*ms)\n",
    "        ## run(dur*ms, report='text')\n",
    "\n",
    "    swing_stance_phase = 1\n",
    "    ## Left leg: Swing phase\n",
    "    ## Rigt leg: Stance phase \n",
    "    l_e_poisson_cut_input.rates = 0*Hz\n",
    "    l_e_poisson_muscle_input.rates = 0*Hz\n",
    "#     l_f_poisson_muscle_input.rates = 0*Hz\n",
    "#     l_f_poisson_V3_F_input.rates = 0*Hz\n",
    "#     ## l_f_poisson_bs_input.rates = 0*Hz\n",
    "#     r_f_poisson_muscle_input.rates = 0*Hz\n",
    "#     r_f_poisson_V3_F_input.rates = 0*Hz\n",
    "#     ## r_f_poisson_bs_input.rates = 0*Hz\n",
    "    r_e_poisson_cut_input.rates = 0*Hz\n",
    "    r_e_poisson_muscle_input.rates = 0*Hz\n",
    "    for phase in range(simulation_step_phases):\n",
    "        ### Left leg\n",
    "        ## print ('swing phase=' + str(phase))\n",
    "#         l_f_muscle_chank_freq = identify_muscle_freq(phase, muscle_fibers_freq_hi, muscle_fibers_freq_lo)\n",
    "#         l_f_V3_F_chank_freq = identify_V3_F_freq(phase, V3_F_freq_hi, V3_F_freq_lo)\n",
    "#         ## print (muscle_chank_freq)\n",
    "#         l_f_poisson_muscle_input.rates = l_f_muscle_chank_freq\n",
    "#         l_f_poisson_V3_F_input.rates = l_f_V3_F_chank_freq\n",
    "#         r_f_poisson_bs_input.rates = identify_bs_freq(swing_stance_phase*10+phase, \n",
    "#                                                       bs_f_fibers_freq_hi, bs_f_fibers_freq_lo, \n",
    "#                                                       simulation_step_phases*2)\n",
    "#         l_f_poisson_bs_input.rates = identify_bs_freq(swing_stance_phase*10+phase, \n",
    "#                                                       bs_f_fibers_freq_hi, bs_f_fibers_freq_lo, \n",
    "#                                                       simulation_step_phases*2)\n",
    "        ### Right leg\n",
    "        ## print ('stance phase=' + str(phase))\n",
    "        r_e_cut_chank_number = identity_cut_chank(phase)\n",
    "        # e_cut_chank_number = identity_cut_chank_no_intersections(phase)\n",
    "        r_e_muscle_chank_freq = identify_muscle_freq(phase, muscle_fibers_freq_hi, muscle_fibers_freq_lo)\n",
    "        ## print (cut_chank_number)\n",
    "        ## print (muscle_chank_freq)\n",
    "        r_e_poisson_cut_input[:].rates = 0*Hz\n",
    "        for chn in r_e_cut_chank_number:\n",
    "            ## print (str(chn*cut_chank) + \": \" + str((chn+1)*cut_chank-1))\n",
    "            r_e_poisson_cut_input[chn*cut_chank:(chn+1)*cut_chank-1].rates = 200*Hz\n",
    "            ## print (poisson_cut_input)\n",
    "        r_e_poisson_muscle_input.rates = r_e_muscle_chank_freq\n",
    "        run(dur*ms)\n",
    "        ## run(dur*ms, report='text')\n",
    "    \n",
    "print('Simulation ended ...')"
   ]
  },
  {
   "cell_type": "markdown",
   "metadata": {
    "id": "EjhRyl_szlIV"
   },
   "source": [
    "# Save data"
   ]
  },
  {
   "cell_type": "markdown",
   "metadata": {},
   "source": [
    "## Left leg"
   ]
  },
  {
   "cell_type": "code",
   "execution_count": 11,
   "metadata": {
    "ExecuteTime": {
     "end_time": "2023-07-06T14:24:55.812317Z",
     "start_time": "2023-07-06T14:24:55.680707Z"
    }
   },
   "outputs": [
    {
     "name": "stdout",
     "output_type": "stream",
     "text": [
      "/home/talanov/brian2/bypass/out/long_run\r\n"
     ]
    }
   ],
   "source": [
    "!pwd"
   ]
  },
  {
   "cell_type": "code",
   "execution_count": 12,
   "metadata": {
    "ExecuteTime": {
     "end_time": "2023-07-06T14:24:55.838617Z",
     "start_time": "2023-07-06T14:24:55.818172Z"
    },
    "executionInfo": {
     "elapsed": 4510,
     "status": "ok",
     "timestamp": 1683231414691,
     "user": {
      "displayName": "Max Talanov",
      "userId": "12188531022269960772"
     },
     "user_tz": -120
    },
    "id": "DRXzqCj4w563"
   },
   "outputs": [
    {
     "name": "stdout",
     "output_type": "stream",
     "text": [
      "Saved left leg E voltages\n"
     ]
    }
   ],
   "source": [
    "save_steps_num = 60\n",
    "if steps_num < 60:\n",
    "    save_steps_num = 60\n",
    "    \n",
    "save_path = save_path_prefix + str(save_steps_num) + '/'\n",
    "# https://brian2.readthedocs.io/en/stable/user/recording.html\n",
    "## Left leg\n",
    "## Extensor\n",
    "# Save motor neurons voltages\n",
    "l_e_motor_neuron_data = l_e_motor_neurons_voltages.get_states(['t', 'v'])\n",
    "with open(save_path + 'l_e_motor_neurons_voltages.pickle', 'wb') as f:\n",
    "  pickle.dump(l_e_motor_neuron_data, f)\n",
    "# Save weights ⬆️ see above \n",
    "l_e_cut2rg_data = l_e_cut2rg_stdp_monitor.get_states(['t', 's'])\n",
    "with open(save_path + 'l_e_cut2rg_weigts.pickle', 'wb') as f:\n",
    "  pickle.dump(l_e_cut2rg_data, f)\n",
    "\n",
    "# l_e_rg2InE_data = l_e_rg2InE_stdp_monitor.get_states(['t', 's'])\n",
    "# with open(save_path + 'l_e_rg2InE_weigts.pickle', 'wb') as f:\n",
    "#   pickle.dump(l_e_rg2InE_data, f)\n",
    "\n",
    "# l_f_rg2InE_data = l_f_rg2InE_stdp_monitor.get_states(['t', 's'])\n",
    "# with open(save_path + 'l_f_rg2InE_weigts.pickle', 'wb') as f:\n",
    "#   pickle.dump(l_f_rg2InE_data, f)\n",
    "\n",
    "print('Saved left leg E voltages')"
   ]
  },
  {
   "cell_type": "code",
   "execution_count": 13,
   "metadata": {
    "ExecuteTime": {
     "end_time": "2023-07-06T14:24:55.866219Z",
     "start_time": "2023-07-06T14:24:55.843031Z"
    },
    "executionInfo": {
     "elapsed": 8427,
     "status": "ok",
     "timestamp": 1683231423113,
     "user": {
      "displayName": "Max Talanov",
      "userId": "12188531022269960772"
     },
     "user_tz": -120
    },
    "id": "KqgLuqbhzwic"
   },
   "outputs": [
    {
     "name": "stdout",
     "output_type": "stream",
     "text": [
      "Saved left leg E spikes\n"
     ]
    }
   ],
   "source": [
    "## Left leg\n",
    "## Extensor\n",
    "# Save spikes \n",
    "l_e_motor_neuron_spikes = l_e_motor_neurons_monitor.get_states(['t', 'i'])\n",
    "with open(save_path + 'l_e_motor_neurons_spikes.pickle', 'wb') as f:\n",
    "  pickle.dump(l_e_motor_neuron_spikes, f)\n",
    "\n",
    "l_e_rg_neuron_spikes = l_e_rg_neurons_monitor.get_states(['t', 'i'])\n",
    "with open(save_path + 'l_e_rg_neurons_spikes.pickle', 'wb') as f:\n",
    "  pickle.dump(l_e_rg_neuron_spikes, f)\n",
    "\n",
    "l_e_cut_spikes = l_e_cut_monitor.get_states(['t', 'i'])\n",
    "with open(save_path + 'l_e_cut_spikes.pickle', 'wb') as f:\n",
    "  pickle.dump(l_e_cut_spikes, f)\n",
    "\n",
    "# l_e_bs_spikes = l_e_bs_monitor.get_states(['t', 'i'])\n",
    "# with open(save_path + 'l_e_bs_spikes.pickle', 'wb') as f:\n",
    "#   pickle.dump(l_e_bs_spikes, f)\n",
    "\n",
    "# l_e_Ia_spikes = l_e_Ia_neurons_monitor.get_states(['t', 'i'])\n",
    "# with open(save_path + 'l_e_Ia_spikes.pickle', 'wb') as f:\n",
    "#   pickle.dump(l_e_Ia_spikes, f)\n",
    "\n",
    "l_e_muscle_spikes = l_e_muscle_monitor.get_states(['t', 'i'])\n",
    "with open(save_path + 'l_e_muscle_spikes.pickle', 'wb') as f:\n",
    "  pickle.dump(l_e_muscle_spikes, f)\n",
    "\n",
    "print('Saved left leg E spikes')"
   ]
  },
  {
   "cell_type": "raw",
   "metadata": {},
   "source": [
    "## Left leg\n",
    "## Flexor\n",
    "# Save motor neurons voltages\n",
    "l_f_motor_neuron_data = l_f_motor_neurons_voltages.get_states(['t', 'v'])\n",
    "with open(save_path + 'l_f_motor_neurons_voltages.pickle', 'wb') as f:\n",
    "  pickle.dump(l_f_motor_neuron_data, f)\n",
    "# Save weights ⬆️ see above \n",
    "l_f_muscle2rg_data = l_f_muscle2rg_stdp_monitor.get_states(['t', 's'])\n",
    "with open(save_path + 'l_f_muscle2rg_weigts.pickle', 'wb') as f:\n",
    "  pickle.dump(l_f_muscle2rg_data, f)\n",
    "print('Saved left leg F voltages')"
   ]
  },
  {
   "cell_type": "raw",
   "metadata": {},
   "source": [
    "## Left leg\n",
    "# Save spikes \n",
    "l_f_motor_neuron_spikes = l_f_motor_neurons_monitor.get_states(['t', 'i'])\n",
    "with open(save_path + 'l_f_motor_neurons_spikes.pickle', 'wb') as f:\n",
    "  pickle.dump(l_f_motor_neuron_spikes, f)\n",
    "\n",
    "l_f_rg_neuron_spikes = l_f_rg_neurons_monitor.get_states(['t', 'i'])\n",
    "with open(save_path + 'l_f_rg_neurons_spikes.pickle', 'wb') as f:\n",
    "  pickle.dump(l_f_rg_neuron_spikes, f)\n",
    "\n",
    "\n",
    "l_f_Ia_spikes = l_f_Ia_neurons_monitor.get_states(['t', 'i'])\n",
    "with open(save_path + 'l_f_Ia_spikes.pickle', 'wb') as f:\n",
    "  pickle.dump(l_f_Ia_spikes, f)\n",
    "\n",
    "\n",
    "l_f_muscle_spikes = l_f_muscle_monitor.get_states(['t', 'i'])\n",
    "with open(save_path + 'l_f_muscle_spikes.pickle', 'wb') as f:\n",
    "  pickle.dump(l_f_muscle_spikes, f)\n",
    "\n",
    "l_f_V3_F_spikes = l_f_V3_F_monitor.get_states(['t', 'i'])\n",
    "with open(save_path + 'l_f_V3_F_spikes.pickle', 'wb') as f:\n",
    "  pickle.dump(l_f_V3_F_spikes, f)\n",
    "\n",
    "## r_f_V0d_neurons_monitor \n",
    "## r_f_In1_neurons_monitor \n",
    "l_f_V0d_spikes = l_f_V0d_neurons_monitor.get_states(['t', 'i'])\n",
    "with open(save_path + 'l_f_V0d_spikes.pickle', 'wb') as f:\n",
    "  pickle.dump(l_f_V0d_spikes, f)\n",
    "\n",
    "l_f_In1_spikes = l_f_In1_neurons_monitor.get_states(['t', 'i'])\n",
    "with open(save_path + 'l_f_In1_spikes.pickle', 'wb') as f:\n",
    "  pickle.dump(l_f_In1_spikes, f)\n",
    "\n",
    "## l_f_poisson_bs_input\n",
    "l_f_bs_spikes = l_f_bs_monitor.get_states(['t', 'i'])\n",
    "with open(save_path + 'l_f_bs_spikes.pickle', 'wb') as f:\n",
    "  pickle.dump(l_f_bs_spikes, f)\n",
    "\n",
    "\n",
    "print('Saved left leg F spikes')"
   ]
  },
  {
   "cell_type": "markdown",
   "metadata": {},
   "source": [
    "## Right leg"
   ]
  },
  {
   "cell_type": "code",
   "execution_count": 14,
   "metadata": {
    "ExecuteTime": {
     "end_time": "2023-07-06T14:24:55.889769Z",
     "start_time": "2023-07-06T14:24:55.869264Z"
    }
   },
   "outputs": [
    {
     "name": "stdout",
     "output_type": "stream",
     "text": [
      "Saved right leg E voltages\n"
     ]
    }
   ],
   "source": [
    "## Right leg\n",
    "## Extensor\n",
    "# Save motor neurons voltages\n",
    "r_e_motor_neuron_data = r_e_motor_neurons_voltages.get_states(['t', 'v'])\n",
    "with open(save_path + 'r_e_motor_neurons_voltages.pickle', 'wb') as f:\n",
    "  pickle.dump(r_e_motor_neuron_data, f)\n",
    "# Save weights ⬆️ see above \n",
    "r_e_cut2rg_data = r_e_cut2rg_stdp_monitor.get_states(['t', 's'])\n",
    "with open(save_path + 'r_e_cut2rg_weigts.pickle', 'wb') as f:\n",
    "  pickle.dump(r_e_cut2rg_data, f)\n",
    "\n",
    "# r_e_rg2InE_data = r_e_rg2InE_stdp_monitor.get_states(['t', 's'])\n",
    "# with open(save_path + 'r_e_rg2InE_weigts.pickle', 'wb') as f:\n",
    "#   pickle.dump(r_e_rg2InE_data, f)\n",
    "\n",
    "# r_f_rg2InE_data = r_f_rg2InE_stdp_monitor.get_states(['t', 's'])\n",
    "# with open(save_path + 'r_f_rg2InE_weigts.pickle', 'wb') as f:\n",
    "#   pickle.dump(r_f_rg2InE_data, f)\n",
    "\n",
    "print('Saved right leg E voltages')"
   ]
  },
  {
   "cell_type": "code",
   "execution_count": 15,
   "metadata": {
    "ExecuteTime": {
     "end_time": "2023-07-06T14:24:55.922855Z",
     "start_time": "2023-07-06T14:24:55.894151Z"
    }
   },
   "outputs": [
    {
     "name": "stdout",
     "output_type": "stream",
     "text": [
      "Saved right leg E spikes\n"
     ]
    }
   ],
   "source": [
    "## Right leg\n",
    "## Extensor\n",
    "# Save spikes \n",
    "r_e_motor_neuron_spikes = r_e_motor_neurons_monitor.get_states(['t', 'i'])\n",
    "with open(save_path + 'r_e_motor_neurons_spikes.pickle', 'wb') as f:\n",
    "  pickle.dump(r_e_motor_neuron_spikes, f)\n",
    "\n",
    "r_e_rg_neuron_spikes = r_e_rg_neurons_monitor.get_states(['t', 'i'])\n",
    "with open(save_path + 'r_e_rg_neurons_spikes.pickle', 'wb') as f:\n",
    "  pickle.dump(r_e_rg_neuron_spikes, f)\n",
    "\n",
    "r_e_cut_spikes = r_e_cut_monitor.get_states(['t', 'i'])\n",
    "with open(save_path + 'r_e_cut_spikes.pickle', 'wb') as f:\n",
    "  pickle.dump(r_e_cut_spikes, f)\n",
    "\n",
    "# r_e_bs_spikes = r_e_bs_monitor.get_states(['t', 'i'])\n",
    "# with open(save_path + 'r_e_bs_spikes.pickle', 'wb') as f:\n",
    "#   pickle.dump(r_e_bs_spikes, f)\n",
    "\n",
    "# r_e_Ia_spikes = r_e_Ia_neurons_monitor.get_states(['t', 'i'])\n",
    "# with open(save_path + 'r_e_Ia_spikes.pickle', 'wb') as f:\n",
    "#   pickle.dump(r_e_Ia_spikes, f)\n",
    "\n",
    "r_e_muscle_spikes = r_e_muscle_monitor.get_states(['t', 'i'])\n",
    "with open(save_path + 'r_e_muscle_spikes.pickle', 'wb') as f:\n",
    "  pickle.dump(r_e_muscle_spikes, f)\n",
    "print('Saved right leg E spikes')\n"
   ]
  },
  {
   "cell_type": "raw",
   "metadata": {},
   "source": [
    "## Right leg\n",
    "## Flexor\n",
    "# Save motor neurons voltages\n",
    "r_f_motor_neuron_data = r_f_motor_neurons_voltages.get_states(['t', 'v'])\n",
    "with open(save_path + 'r_f_motor_neurons_voltages.pickle', 'wb') as f:\n",
    "  pickle.dump(r_f_motor_neuron_data, f)\n",
    "# Save weights ⬆️ see above \n",
    "r_f_muscle2rg_data = r_f_muscle2rg_stdp_monitor.get_states(['t', 's'])\n",
    "with open(save_path + 'r_f_muscle2rg_weigts.pickle', 'wb') as f:\n",
    "  pickle.dump(r_f_muscle2rg_data, f)\n",
    "print('Saved right leg F voltages')"
   ]
  },
  {
   "cell_type": "raw",
   "metadata": {},
   "source": [
    "## Right leg\n",
    "# Save spikes \n",
    "r_f_motor_neuron_spikes = r_f_motor_neurons_monitor.get_states(['t', 'i'])\n",
    "with open(save_path + 'r_f_motor_neurons_spikes.pickle', 'wb') as f:\n",
    "  pickle.dump(r_f_motor_neuron_spikes, f)\n",
    "\n",
    "r_f_rg_neuron_spikes = r_f_rg_neurons_monitor.get_states(['t', 'i'])\n",
    "with open(save_path + 'r_f_rg_neurons_spikes.pickle', 'wb') as f:\n",
    "  pickle.dump(r_f_rg_neuron_spikes, f)\n",
    "\n",
    "r_f_Ia_spikes = r_f_Ia_neurons_monitor.get_states(['t', 'i'])\n",
    "with open(save_path + 'r_f_Ia_spikes.pickle', 'wb') as f:\n",
    "  pickle.dump(r_f_Ia_spikes, f)\n",
    "\n",
    "r_f_muscle_spikes = r_f_muscle_monitor.get_states(['t', 'i'])\n",
    "with open(save_path + 'r_f_muscle_spikes.pickle', 'wb') as f:\n",
    "  pickle.dump(r_f_muscle_spikes, f)\n",
    "\n",
    "r_f_V3_F_spikes = r_f_V3_F_monitor.get_states(['t', 'i'])\n",
    "with open(save_path + 'r_f_V3_F_spikes.pickle', 'wb') as f:\n",
    "  pickle.dump(r_f_V3_F_spikes, f)\n",
    "\n",
    "## r_f_V0d_neurons_monitor \n",
    "## r_f_In1_neurons_monitor \n",
    "r_f_V0d_spikes = r_f_V0d_neurons_monitor.get_states(['t', 'i'])\n",
    "with open(save_path + 'r_f_V0d_spikes.pickle', 'wb') as f:\n",
    "  pickle.dump(r_f_V0d_spikes, f)\n",
    "\n",
    "r_f_In1_spikes = r_f_In1_neurons_monitor.get_states(['t', 'i'])\n",
    "with open(save_path + 'r_f_In1_spikes.pickle', 'wb') as f:\n",
    "  pickle.dump(r_f_In1_spikes, f)\n",
    "\n",
    "## r_f_poisson_bs_input\n",
    "r_f_bs_spikes = r_f_bs_monitor.get_states(['t', 'i'])\n",
    "with open(save_path + 'r_f_bs_spikes.pickle', 'wb') as f:\n",
    "  pickle.dump(r_f_bs_spikes, f)\n",
    "\n",
    "print('Saved right leg F spikes')"
   ]
  }
 ],
 "metadata": {
  "celltoolbar": "Initialization Cell",
  "colab": {
   "authorship_tag": "ABX9TyN0yxx5sqvPIxHouLwMU4Uw",
   "collapsed_sections": [
    "k-Ho_9yguZGP",
    "Wp-IOiMa61VH",
    "NvH_btzG7B8y",
    "BHfSiXm2_ShS",
    "ZEMIHGa0MYf3",
    "pnxVt3CiDXUW",
    "GvruPuE2DfAJ"
   ],
   "provenance": [
    {
     "file_id": "1vRP0IO3oP64xvVOAmAe7uAwaUByCZHtx",
     "timestamp": 1683215459125
    },
    {
     "file_id": "1I2h2UvMcHvSkdBDnHUpxKoGp44daDO2P",
     "timestamp": 1681908105074
    },
    {
     "file_id": "1A6LKzwczMNoveMQEIfrGAWp2lfEpv89O",
     "timestamp": 1681653153440
    }
   ]
  },
  "kernelspec": {
   "display_name": "Python 3 (ipykernel)",
   "language": "python",
   "name": "python3"
  },
  "language_info": {
   "codemirror_mode": {
    "name": "ipython",
    "version": 3
   },
   "file_extension": ".py",
   "mimetype": "text/x-python",
   "name": "python",
   "nbconvert_exporter": "python",
   "pygments_lexer": "ipython3",
   "version": "3.7.5"
  },
  "toc": {
   "base_numbering": 1,
   "nav_menu": {},
   "number_sections": true,
   "sideBar": true,
   "skip_h1_title": false,
   "title_cell": "Table of Contents",
   "title_sidebar": "Contents",
   "toc_cell": false,
   "toc_position": {
    "height": "calc(100% - 180px)",
    "left": "10px",
    "top": "150px",
    "width": "251px"
   },
   "toc_section_display": true,
   "toc_window_display": true
  },
  "varInspector": {
   "cols": {
    "lenName": 16,
    "lenType": 16,
    "lenVar": 40
   },
   "kernels_config": {
    "python": {
     "delete_cmd_postfix": "",
     "delete_cmd_prefix": "del ",
     "library": "var_list.py",
     "varRefreshCmd": "print(var_dic_list())"
    },
    "r": {
     "delete_cmd_postfix": ") ",
     "delete_cmd_prefix": "rm(",
     "library": "var_list.r",
     "varRefreshCmd": "cat(var_dic_list()) "
    }
   },
   "position": {
    "height": "448.85px",
    "left": "915px",
    "right": "20px",
    "top": "121px",
    "width": "340px"
   },
   "types_to_exclude": [
    "module",
    "function",
    "builtin_function_or_method",
    "instance",
    "_Feature"
   ],
   "window_display": false
  }
 },
 "nbformat": 4,
 "nbformat_minor": 1
}
